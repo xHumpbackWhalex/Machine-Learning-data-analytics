{
 "cells": [
  {
   "cell_type": "markdown",
   "id": "79739220",
   "metadata": {},
   "source": [
    "# Project Description"
   ]
  },
  {
   "cell_type": "markdown",
   "id": "017fccb2",
   "metadata": {},
   "source": [
    "In this project I will be working on an unclean dataset that contains information of several thousands \n",
    "cars’ resale value that were obtained from UK’s craiglist."
   ]
  },
  {
   "cell_type": "markdown",
   "id": "8b2b4693",
   "metadata": {},
   "source": [
    "# 2. Library import and data loading"
   ]
  },
  {
   "cell_type": "code",
   "execution_count": 1,
   "id": "1b3d8a60",
   "metadata": {},
   "outputs": [
    {
     "data": {
      "text/html": [
       "<div>\n",
       "<style scoped>\n",
       "    .dataframe tbody tr th:only-of-type {\n",
       "        vertical-align: middle;\n",
       "    }\n",
       "\n",
       "    .dataframe tbody tr th {\n",
       "        vertical-align: top;\n",
       "    }\n",
       "\n",
       "    .dataframe thead th {\n",
       "        text-align: right;\n",
       "    }\n",
       "</style>\n",
       "<table border=\"1\" class=\"dataframe\">\n",
       "  <thead>\n",
       "    <tr style=\"text-align: right;\">\n",
       "      <th></th>\n",
       "      <th>model</th>\n",
       "      <th>year</th>\n",
       "      <th>price</th>\n",
       "      <th>transmission</th>\n",
       "      <th>mileage</th>\n",
       "      <th>fuel type</th>\n",
       "      <th>engine size</th>\n",
       "      <th>mileage2</th>\n",
       "      <th>fuel type2</th>\n",
       "      <th>engine size2</th>\n",
       "      <th>reference</th>\n",
       "    </tr>\n",
       "  </thead>\n",
       "  <tbody>\n",
       "    <tr>\n",
       "      <th>0</th>\n",
       "      <td>C Class</td>\n",
       "      <td>2020.0</td>\n",
       "      <td>£30,495</td>\n",
       "      <td>Automatic</td>\n",
       "      <td>NaN</td>\n",
       "      <td>Diesel</td>\n",
       "      <td>2</td>\n",
       "      <td>1,200</td>\n",
       "      <td>NaN</td>\n",
       "      <td>NaN</td>\n",
       "      <td>/ad/25017331</td>\n",
       "    </tr>\n",
       "    <tr>\n",
       "      <th>1</th>\n",
       "      <td>C Class</td>\n",
       "      <td>2020.0</td>\n",
       "      <td>£29,989</td>\n",
       "      <td>Automatic</td>\n",
       "      <td>NaN</td>\n",
       "      <td>Petrol</td>\n",
       "      <td>1.5</td>\n",
       "      <td>1,000</td>\n",
       "      <td>NaN</td>\n",
       "      <td>NaN</td>\n",
       "      <td>/ad/25043746</td>\n",
       "    </tr>\n",
       "    <tr>\n",
       "      <th>2</th>\n",
       "      <td>C Class</td>\n",
       "      <td>2020.0</td>\n",
       "      <td>£37,899</td>\n",
       "      <td>Automatic</td>\n",
       "      <td>NaN</td>\n",
       "      <td>Diesel</td>\n",
       "      <td>2</td>\n",
       "      <td>500</td>\n",
       "      <td>NaN</td>\n",
       "      <td>NaN</td>\n",
       "      <td>/ad/25142894</td>\n",
       "    </tr>\n",
       "    <tr>\n",
       "      <th>3</th>\n",
       "      <td>C Class</td>\n",
       "      <td>2019.0</td>\n",
       "      <td>£30,399</td>\n",
       "      <td>Automatic</td>\n",
       "      <td>NaN</td>\n",
       "      <td>Diesel</td>\n",
       "      <td>2</td>\n",
       "      <td>5,000</td>\n",
       "      <td>NaN</td>\n",
       "      <td>NaN</td>\n",
       "      <td>/ad/24942816</td>\n",
       "    </tr>\n",
       "    <tr>\n",
       "      <th>4</th>\n",
       "      <td>C Class</td>\n",
       "      <td>2019.0</td>\n",
       "      <td>£29,899</td>\n",
       "      <td>Automatic</td>\n",
       "      <td>NaN</td>\n",
       "      <td>Diesel</td>\n",
       "      <td>2</td>\n",
       "      <td>4,500</td>\n",
       "      <td>NaN</td>\n",
       "      <td>NaN</td>\n",
       "      <td>/ad/24913660</td>\n",
       "    </tr>\n",
       "  </tbody>\n",
       "</table>\n",
       "</div>"
      ],
      "text/plain": [
       "      model    year     price transmission mileage fuel type engine size  \\\n",
       "0   C Class  2020.0   £30,495    Automatic     NaN    Diesel           2   \n",
       "1   C Class  2020.0   £29,989    Automatic     NaN    Petrol         1.5   \n",
       "2   C Class  2020.0   £37,899    Automatic     NaN    Diesel           2   \n",
       "3   C Class  2019.0   £30,399    Automatic     NaN    Diesel           2   \n",
       "4   C Class  2019.0   £29,899    Automatic     NaN    Diesel           2   \n",
       "\n",
       "  mileage2 fuel type2 engine size2     reference  \n",
       "0    1,200        NaN          NaN  /ad/25017331  \n",
       "1    1,000        NaN          NaN  /ad/25043746  \n",
       "2      500        NaN          NaN  /ad/25142894  \n",
       "3    5,000        NaN          NaN  /ad/24942816  \n",
       "4    4,500        NaN          NaN  /ad/24913660  "
      ]
     },
     "execution_count": 1,
     "metadata": {},
     "output_type": "execute_result"
    }
   ],
   "source": [
    "#importing libraries\n",
    "import numpy as np\n",
    "import pandas as pd\n",
    "import matplotlib.pyplot as plt\n",
    "\n",
    "#loading dataset\n",
    "df = pd.read_csv(\"unclean_data.csv\")\n",
    "\n",
    "#looking at the head of the dataframe\n",
    "df.head()"
   ]
  },
  {
   "cell_type": "markdown",
   "id": "b1151859",
   "metadata": {},
   "source": [
    "# 3. Data Analysis, Preparation and Wrangling"
   ]
  },
  {
   "cell_type": "markdown",
   "id": "8615d148",
   "metadata": {},
   "source": [
    "## Handling missing rows"
   ]
  },
  {
   "cell_type": "code",
   "execution_count": 2,
   "id": "d7a0e74a",
   "metadata": {},
   "outputs": [
    {
     "name": "stdout",
     "output_type": "stream",
     "text": [
      "model             99\n",
      "year             102\n",
      "price             99\n",
      "transmission      99\n",
      "mileage          198\n",
      "fuel type       2677\n",
      "engine size      164\n",
      "mileage2         116\n",
      "fuel type2       198\n",
      "engine size2     198\n",
      "reference         99\n",
      "dtype: int64\n",
      "\n"
     ]
    },
    {
     "data": {
      "text/html": [
       "<div>\n",
       "<style scoped>\n",
       "    .dataframe tbody tr th:only-of-type {\n",
       "        vertical-align: middle;\n",
       "    }\n",
       "\n",
       "    .dataframe tbody tr th {\n",
       "        vertical-align: top;\n",
       "    }\n",
       "\n",
       "    .dataframe thead th {\n",
       "        text-align: right;\n",
       "    }\n",
       "</style>\n",
       "<table border=\"1\" class=\"dataframe\">\n",
       "  <thead>\n",
       "    <tr style=\"text-align: right;\">\n",
       "      <th></th>\n",
       "      <th>model</th>\n",
       "      <th>year</th>\n",
       "      <th>price</th>\n",
       "      <th>transmission</th>\n",
       "      <th>mileage</th>\n",
       "      <th>fuel type</th>\n",
       "      <th>engine size</th>\n",
       "      <th>mileage2</th>\n",
       "      <th>fuel type2</th>\n",
       "      <th>engine size2</th>\n",
       "      <th>reference</th>\n",
       "    </tr>\n",
       "  </thead>\n",
       "  <tbody>\n",
       "    <tr>\n",
       "      <th>0</th>\n",
       "      <td>C Class</td>\n",
       "      <td>2020.0</td>\n",
       "      <td>£30,495</td>\n",
       "      <td>Automatic</td>\n",
       "      <td>NaN</td>\n",
       "      <td>Diesel</td>\n",
       "      <td>2</td>\n",
       "      <td>1,200</td>\n",
       "      <td>NaN</td>\n",
       "      <td>NaN</td>\n",
       "      <td>/ad/25017331</td>\n",
       "    </tr>\n",
       "    <tr>\n",
       "      <th>1</th>\n",
       "      <td>C Class</td>\n",
       "      <td>2020.0</td>\n",
       "      <td>£29,989</td>\n",
       "      <td>Automatic</td>\n",
       "      <td>NaN</td>\n",
       "      <td>Petrol</td>\n",
       "      <td>1.5</td>\n",
       "      <td>1,000</td>\n",
       "      <td>NaN</td>\n",
       "      <td>NaN</td>\n",
       "      <td>/ad/25043746</td>\n",
       "    </tr>\n",
       "    <tr>\n",
       "      <th>2</th>\n",
       "      <td>C Class</td>\n",
       "      <td>2020.0</td>\n",
       "      <td>£37,899</td>\n",
       "      <td>Automatic</td>\n",
       "      <td>NaN</td>\n",
       "      <td>Diesel</td>\n",
       "      <td>2</td>\n",
       "      <td>500</td>\n",
       "      <td>NaN</td>\n",
       "      <td>NaN</td>\n",
       "      <td>/ad/25142894</td>\n",
       "    </tr>\n",
       "    <tr>\n",
       "      <th>3</th>\n",
       "      <td>C Class</td>\n",
       "      <td>2019.0</td>\n",
       "      <td>£30,399</td>\n",
       "      <td>Automatic</td>\n",
       "      <td>NaN</td>\n",
       "      <td>Diesel</td>\n",
       "      <td>2</td>\n",
       "      <td>5,000</td>\n",
       "      <td>NaN</td>\n",
       "      <td>NaN</td>\n",
       "      <td>/ad/24942816</td>\n",
       "    </tr>\n",
       "    <tr>\n",
       "      <th>4</th>\n",
       "      <td>C Class</td>\n",
       "      <td>2019.0</td>\n",
       "      <td>£29,899</td>\n",
       "      <td>Automatic</td>\n",
       "      <td>NaN</td>\n",
       "      <td>Diesel</td>\n",
       "      <td>2</td>\n",
       "      <td>4,500</td>\n",
       "      <td>NaN</td>\n",
       "      <td>NaN</td>\n",
       "      <td>/ad/24913660</td>\n",
       "    </tr>\n",
       "    <tr>\n",
       "      <th>...</th>\n",
       "      <td>...</td>\n",
       "      <td>...</td>\n",
       "      <td>...</td>\n",
       "      <td>...</td>\n",
       "      <td>...</td>\n",
       "      <td>...</td>\n",
       "      <td>...</td>\n",
       "      <td>...</td>\n",
       "      <td>...</td>\n",
       "      <td>...</td>\n",
       "      <td>...</td>\n",
       "    </tr>\n",
       "    <tr>\n",
       "      <th>3902</th>\n",
       "      <td>C Class</td>\n",
       "      <td>2017.0</td>\n",
       "      <td>£14,700</td>\n",
       "      <td>Manual</td>\n",
       "      <td>31,357</td>\n",
       "      <td>25</td>\n",
       "      <td>£150</td>\n",
       "      <td>70.6</td>\n",
       "      <td>Diesel</td>\n",
       "      <td>1.598</td>\n",
       "      <td>/ad/25451436</td>\n",
       "    </tr>\n",
       "    <tr>\n",
       "      <th>3903</th>\n",
       "      <td>C Class</td>\n",
       "      <td>2018.0</td>\n",
       "      <td>£18,500</td>\n",
       "      <td>Automatic</td>\n",
       "      <td>28,248</td>\n",
       "      <td>31</td>\n",
       "      <td>£150</td>\n",
       "      <td>64.2</td>\n",
       "      <td>Diesel</td>\n",
       "      <td>2.143</td>\n",
       "      <td>/ad/25451481</td>\n",
       "    </tr>\n",
       "    <tr>\n",
       "      <th>3904</th>\n",
       "      <td>C Class</td>\n",
       "      <td>2014.0</td>\n",
       "      <td>£11,900</td>\n",
       "      <td>Manual</td>\n",
       "      <td>48,055</td>\n",
       "      <td>31</td>\n",
       "      <td>£20</td>\n",
       "      <td>65.7</td>\n",
       "      <td>Diesel</td>\n",
       "      <td>2.143</td>\n",
       "      <td>/ad/25057204</td>\n",
       "    </tr>\n",
       "    <tr>\n",
       "      <th>3905</th>\n",
       "      <td>C Class</td>\n",
       "      <td>2014.0</td>\n",
       "      <td>£11,300</td>\n",
       "      <td>Automatic</td>\n",
       "      <td>49,865</td>\n",
       "      <td>46</td>\n",
       "      <td>£145</td>\n",
       "      <td>56.5</td>\n",
       "      <td>Diesel</td>\n",
       "      <td>2.143</td>\n",
       "      <td>/ad/25144481</td>\n",
       "    </tr>\n",
       "    <tr>\n",
       "      <th>3906</th>\n",
       "      <td>C Class</td>\n",
       "      <td>2014.0</td>\n",
       "      <td>£14,800</td>\n",
       "      <td>Automatic</td>\n",
       "      <td>55,445</td>\n",
       "      <td>37</td>\n",
       "      <td>£30</td>\n",
       "      <td>64.2</td>\n",
       "      <td>Diesel</td>\n",
       "      <td>2.143</td>\n",
       "      <td>/ad/25154247</td>\n",
       "    </tr>\n",
       "  </tbody>\n",
       "</table>\n",
       "<p>3907 rows × 11 columns</p>\n",
       "</div>"
      ],
      "text/plain": [
       "         model    year     price transmission mileage fuel type engine size  \\\n",
       "0      C Class  2020.0   £30,495    Automatic     NaN    Diesel           2   \n",
       "1      C Class  2020.0   £29,989    Automatic     NaN    Petrol         1.5   \n",
       "2      C Class  2020.0   £37,899    Automatic     NaN    Diesel           2   \n",
       "3      C Class  2019.0   £30,399    Automatic     NaN    Diesel           2   \n",
       "4      C Class  2019.0   £29,899    Automatic     NaN    Diesel           2   \n",
       "...        ...     ...       ...          ...     ...       ...         ...   \n",
       "3902   C Class  2017.0   £14,700       Manual  31,357        25        £150   \n",
       "3903   C Class  2018.0   £18,500    Automatic  28,248        31        £150   \n",
       "3904   C Class  2014.0   £11,900       Manual  48,055        31         £20   \n",
       "3905   C Class  2014.0   £11,300    Automatic  49,865        46        £145   \n",
       "3906   C Class  2014.0   £14,800    Automatic  55,445        37         £30   \n",
       "\n",
       "     mileage2 fuel type2 engine size2     reference  \n",
       "0       1,200        NaN          NaN  /ad/25017331  \n",
       "1       1,000        NaN          NaN  /ad/25043746  \n",
       "2         500        NaN          NaN  /ad/25142894  \n",
       "3       5,000        NaN          NaN  /ad/24942816  \n",
       "4       4,500        NaN          NaN  /ad/24913660  \n",
       "...       ...        ...          ...           ...  \n",
       "3902     70.6     Diesel        1.598  /ad/25451436  \n",
       "3903     64.2     Diesel        2.143  /ad/25451481  \n",
       "3904     65.7     Diesel        2.143  /ad/25057204  \n",
       "3905     56.5     Diesel        2.143  /ad/25144481  \n",
       "3906     64.2     Diesel        2.143  /ad/25154247  \n",
       "\n",
       "[3907 rows x 11 columns]"
      ]
     },
     "execution_count": 2,
     "metadata": {},
     "output_type": "execute_result"
    }
   ],
   "source": [
    "#Checking NaN's \n",
    "print(df.isna().sum())\n",
    "print()\n",
    "\n",
    "#Drop the rows where all elements are missing\n",
    "df.dropna(axis = 0, how = 'all', inplace = True)\n",
    "\n",
    "#Reset the index of the dataframe\n",
    "df.reset_index(drop=True)"
   ]
  },
  {
   "cell_type": "code",
   "execution_count": 3,
   "id": "5c4c1334",
   "metadata": {},
   "outputs": [
    {
     "name": "stdout",
     "output_type": "stream",
     "text": [
      "model              0\n",
      "year               3\n",
      "price              0\n",
      "transmission       0\n",
      "mileage           99\n",
      "fuel type       2578\n",
      "engine size       65\n",
      "mileage2          17\n",
      "fuel type2        99\n",
      "engine size2      99\n",
      "reference          0\n",
      "dtype: int64\n"
     ]
    }
   ],
   "source": [
    "#Create a copy of the dataframe\n",
    "df1 = df.copy()\n",
    "\n",
    "#Checking NaN's \n",
    "print(df1.isna().sum())"
   ]
  },
  {
   "cell_type": "markdown",
   "id": "aa8df923",
   "metadata": {},
   "source": [
    "## Handling the currency symbols and comma format in 'price' column"
   ]
  },
  {
   "cell_type": "code",
   "execution_count": 4,
   "id": "75fb2085",
   "metadata": {},
   "outputs": [],
   "source": [
    "# Removing special character and symbols in the price column\n",
    "df1.price = df1.price.apply(lambda x:x.replace('£','').replace(',',''))\n",
    "\n",
    "#Convert price column to a numeric type\n",
    "df1[\"price\"] = pd.to_numeric(df1[\"price\"])"
   ]
  },
  {
   "cell_type": "markdown",
   "id": "9ae3d95f",
   "metadata": {},
   "source": [
    "## Rename fuel_type and engine_size columns"
   ]
  },
  {
   "cell_type": "code",
   "execution_count": 5,
   "id": "13e41463",
   "metadata": {},
   "outputs": [
    {
     "name": "stdout",
     "output_type": "stream",
     "text": [
      "<class 'pandas.core.frame.DataFrame'>\n",
      "Int64Index: 3907 entries, 0 to 4005\n",
      "Data columns (total 11 columns):\n",
      " #   Column        Non-Null Count  Dtype  \n",
      "---  ------        --------------  -----  \n",
      " 0   model         3907 non-null   object \n",
      " 1   year          3904 non-null   float64\n",
      " 2   price         3907 non-null   int64  \n",
      " 3   transmission  3907 non-null   object \n",
      " 4   mileage       3808 non-null   object \n",
      " 5   fuel_type     1329 non-null   object \n",
      " 6   engine_size   3842 non-null   object \n",
      " 7   mileage2      3890 non-null   object \n",
      " 8   fuel_type2    3808 non-null   object \n",
      " 9   engine_size2  3808 non-null   object \n",
      " 10  reference     3907 non-null   object \n",
      "dtypes: float64(1), int64(1), object(9)\n",
      "memory usage: 366.3+ KB\n"
     ]
    }
   ],
   "source": [
    "#rename the following columns: “fuel type”, “fuel type2”, “engine size”, and “engine size2” \n",
    "#into “fuel_type”, “fuel_type2”, “engine_size” and “engine_size2” respectively.\n",
    "\n",
    "#fuel_type\n",
    "df1.rename(columns = {'fuel type2':'fuel_type2'}, inplace = True)\n",
    "df1.rename(columns = {'fuel type':'fuel_type'}, inplace = True)\n",
    "\n",
    "#engine_size\n",
    "df1.rename(columns = {'engine size':'engine_size'}, inplace = True)\n",
    "df1.rename(columns = {'engine size2':'engine_size2'}, inplace = True)\n",
    "df1.info()"
   ]
  },
  {
   "cell_type": "markdown",
   "id": "f0d5d40b",
   "metadata": {},
   "source": [
    "## Fill NA/NaN missing values in: fuel_type"
   ]
  },
  {
   "cell_type": "code",
   "execution_count": 6,
   "id": "9c6f18dd",
   "metadata": {},
   "outputs": [],
   "source": [
    "#filling the missing values in \"fuel_types2\" column with values from \"fuel_type\" column\n",
    "df1['fuel_type2'] = df1['fuel_type2'].fillna(df1['fuel_type'])\n",
    "\n",
    "#drop fuel_type column\n",
    "df1.drop(['fuel_type'], axis=1, inplace = True)\n",
    "\n",
    "#reset index\n",
    "df1.reset_index(drop=True)\n",
    "\n",
    "#rename 'fuel_type2' column\n",
    "df1.rename(columns = {'fuel_type2':'fuel_type'}, inplace = True)"
   ]
  },
  {
   "cell_type": "code",
   "execution_count": 7,
   "id": "83c312ee",
   "metadata": {},
   "outputs": [
    {
     "name": "stdout",
     "output_type": "stream",
     "text": [
      "model            0\n",
      "year             3\n",
      "price            0\n",
      "transmission     0\n",
      "mileage         99\n",
      "engine_size     65\n",
      "mileage2        17\n",
      "fuel_type        0\n",
      "engine_size2    99\n",
      "reference        0\n",
      "dtype: int64\n",
      "\n",
      "<class 'pandas.core.frame.DataFrame'>\n",
      "Int64Index: 3907 entries, 0 to 4005\n",
      "Data columns (total 10 columns):\n",
      " #   Column        Non-Null Count  Dtype  \n",
      "---  ------        --------------  -----  \n",
      " 0   model         3907 non-null   object \n",
      " 1   year          3904 non-null   float64\n",
      " 2   price         3907 non-null   int64  \n",
      " 3   transmission  3907 non-null   object \n",
      " 4   mileage       3808 non-null   object \n",
      " 5   engine_size   3842 non-null   object \n",
      " 6   mileage2      3890 non-null   object \n",
      " 7   fuel_type     3907 non-null   object \n",
      " 8   engine_size2  3808 non-null   object \n",
      " 9   reference     3907 non-null   object \n",
      "dtypes: float64(1), int64(1), object(8)\n",
      "memory usage: 335.8+ KB\n"
     ]
    }
   ],
   "source": [
    "#Create a copy\n",
    "df2 = df1.copy()\n",
    "\n",
    "#Check NaN\n",
    "\n",
    "print(df2.isna().sum())\n",
    "print()\n",
    "df2.info()"
   ]
  },
  {
   "cell_type": "markdown",
   "id": "df0e11c8",
   "metadata": {},
   "source": [
    "# Handling the comma format in 'mileage' columns"
   ]
  },
  {
   "cell_type": "code",
   "execution_count": 8,
   "id": "325cb5d7",
   "metadata": {},
   "outputs": [],
   "source": [
    "#remove commas\n",
    "df2['mileage'] = df2['mileage'].str.replace(',', '', regex=True)\n",
    "df2['mileage2'] = df2['mileage2'].str.replace(',', '', regex=True)"
   ]
  },
  {
   "cell_type": "markdown",
   "id": "1aedb487",
   "metadata": {},
   "source": [
    "## Fill NA/NaN missing values in: milage"
   ]
  },
  {
   "cell_type": "code",
   "execution_count": 9,
   "id": "194e2ecd",
   "metadata": {},
   "outputs": [],
   "source": [
    "#fill the missing values in milage column with values from column milage2\n",
    "df2['mileage'] = df2['mileage'].fillna(df2['mileage2'])\n",
    "\n",
    "#dropping the rows that contain \"Unknown\"\n",
    "df2 = df2[df2[\"mileage\"].str.contains(\"Unknown\") == False]\n",
    "\n",
    "# drop fuel_type column\n",
    "df2.drop(['mileage2'], axis=1, inplace = True)\n",
    "\n",
    "#reset index\n",
    "df2.reset_index(drop=True)\n",
    "\n",
    "#Convert milage column to a numeric type\n",
    "df2[\"mileage\"] = pd.to_numeric(df2[\"mileage\"])\n"
   ]
  },
  {
   "cell_type": "code",
   "execution_count": 10,
   "id": "15326c33",
   "metadata": {},
   "outputs": [
    {
     "name": "stdout",
     "output_type": "stream",
     "text": [
      "model            0\n",
      "year             3\n",
      "price            0\n",
      "transmission     0\n",
      "mileage          0\n",
      "engine_size     64\n",
      "fuel_type        0\n",
      "engine_size2    98\n",
      "reference        0\n",
      "dtype: int64\n",
      "\n",
      "<class 'pandas.core.frame.DataFrame'>\n",
      "Int64Index: 3903 entries, 0 to 4005\n",
      "Data columns (total 9 columns):\n",
      " #   Column        Non-Null Count  Dtype  \n",
      "---  ------        --------------  -----  \n",
      " 0   model         3903 non-null   object \n",
      " 1   year          3900 non-null   float64\n",
      " 2   price         3903 non-null   int64  \n",
      " 3   transmission  3903 non-null   object \n",
      " 4   mileage       3903 non-null   int64  \n",
      " 5   engine_size   3839 non-null   object \n",
      " 6   fuel_type     3903 non-null   object \n",
      " 7   engine_size2  3805 non-null   object \n",
      " 8   reference     3903 non-null   object \n",
      "dtypes: float64(1), int64(2), object(6)\n",
      "memory usage: 304.9+ KB\n"
     ]
    }
   ],
   "source": [
    "#Create a copy\n",
    "df3 = df2.copy()\n",
    "\n",
    "print(df3.isna().sum())\n",
    "print()\n",
    "df3.info()"
   ]
  },
  {
   "cell_type": "markdown",
   "id": "558558e2",
   "metadata": {},
   "source": [
    "## Fill NA/NaN missing values in: engine_size"
   ]
  },
  {
   "cell_type": "code",
   "execution_count": 11,
   "id": "a8d83304",
   "metadata": {},
   "outputs": [
    {
     "name": "stdout",
     "output_type": "stream",
     "text": [
      "model           0\n",
      "year            3\n",
      "price           0\n",
      "transmission    0\n",
      "mileage         0\n",
      "fuel_type       0\n",
      "engine_size2    0\n",
      "reference       0\n",
      "dtype: int64\n",
      "\n",
      "<class 'pandas.core.frame.DataFrame'>\n",
      "Int64Index: 3903 entries, 0 to 4005\n",
      "Data columns (total 8 columns):\n",
      " #   Column        Non-Null Count  Dtype  \n",
      "---  ------        --------------  -----  \n",
      " 0   model         3903 non-null   object \n",
      " 1   year          3900 non-null   float64\n",
      " 2   price         3903 non-null   int64  \n",
      " 3   transmission  3903 non-null   object \n",
      " 4   mileage       3903 non-null   int64  \n",
      " 5   fuel_type     3903 non-null   object \n",
      " 6   engine_size2  3903 non-null   object \n",
      " 7   reference     3903 non-null   object \n",
      "dtypes: float64(1), int64(2), object(5)\n",
      "memory usage: 274.4+ KB\n"
     ]
    }
   ],
   "source": [
    "#fill the missing values in engine_size2 column with values from column engine_size\n",
    "df3['engine_size2'] = df3['engine_size2'].fillna(df3['engine_size'])\n",
    "\n",
    "#Drop the rows where any elements are missing\n",
    "#df3.dropna(subset=['engine_size2'], inplace = True)\n",
    "\n",
    "#Drop unnecessary column\n",
    "df3.drop(['engine_size'], axis=1, inplace = True)\n",
    "\n",
    "#Reindex \n",
    "df3.reset_index(drop=True)\n",
    "\n",
    "#Create a copy\n",
    "df4 = df3.copy()\n",
    "\n",
    "print(df4.isna().sum())\n",
    "print()\n",
    "df4.info()\n"
   ]
  },
  {
   "cell_type": "markdown",
   "id": "6942d43e",
   "metadata": {},
   "source": [
    "## Handling different values standard in columns: engine_size"
   ]
  },
  {
   "cell_type": "code",
   "execution_count": 12,
   "id": "48012e77",
   "metadata": {},
   "outputs": [
    {
     "name": "stdout",
     "output_type": "stream",
     "text": [
      "model           0\n",
      "year            3\n",
      "price           0\n",
      "transmission    0\n",
      "mileage         0\n",
      "fuel_type       0\n",
      "engine_size2    0\n",
      "reference       0\n",
      "dtype: int64\n",
      "\n",
      "<class 'pandas.core.frame.DataFrame'>\n",
      "Int64Index: 3902 entries, 0 to 4005\n",
      "Data columns (total 8 columns):\n",
      " #   Column        Non-Null Count  Dtype  \n",
      "---  ------        --------------  -----  \n",
      " 0   model         3902 non-null   object \n",
      " 1   year          3899 non-null   float64\n",
      " 2   price         3902 non-null   int64  \n",
      " 3   transmission  3902 non-null   object \n",
      " 4   mileage       3902 non-null   int64  \n",
      " 5   fuel_type     3902 non-null   object \n",
      " 6   engine_size2  3902 non-null   object \n",
      " 7   reference     3902 non-null   object \n",
      "dtypes: float64(1), int64(2), object(5)\n",
      "memory usage: 274.4+ KB\n"
     ]
    }
   ],
   "source": [
    "#Delete unneccesaries strings and symbols\n",
    "df4['engine_size2'] = df4['engine_size2'].str.replace('\\W', '', regex=True)\n",
    "df4['engine_size2'] = df4['engine_size2'].str.replace('CC', '', regex=True)\n",
    "\n",
    "#Delete unneccesaries strings values\n",
    "df4 = df4[df4[\"engine_size2\"].str.contains(\"Unknown\") == False]\n",
    "\n",
    "print(df4.isna().sum())\n",
    "print()\n",
    "df4.info()"
   ]
  },
  {
   "cell_type": "code",
   "execution_count": 13,
   "id": "6b73eb0c",
   "metadata": {},
   "outputs": [
    {
     "name": "stdout",
     "output_type": "stream",
     "text": [
      "model           0\n",
      "year            3\n",
      "price           0\n",
      "transmission    0\n",
      "mileage         0\n",
      "fuel_type       0\n",
      "engine_size     0\n",
      "reference       0\n",
      "dtype: int64\n",
      "\n",
      "<class 'pandas.core.frame.DataFrame'>\n",
      "Int64Index: 3902 entries, 0 to 4005\n",
      "Data columns (total 8 columns):\n",
      " #   Column        Non-Null Count  Dtype  \n",
      "---  ------        --------------  -----  \n",
      " 0   model         3902 non-null   object \n",
      " 1   year          3899 non-null   float64\n",
      " 2   price         3902 non-null   int64  \n",
      " 3   transmission  3902 non-null   object \n",
      " 4   mileage       3902 non-null   int64  \n",
      " 5   fuel_type     3902 non-null   object \n",
      " 6   engine_size   3902 non-null   float64\n",
      " 7   reference     3902 non-null   object \n",
      "dtypes: float64(2), int64(2), object(4)\n",
      "memory usage: 274.4+ KB\n"
     ]
    }
   ],
   "source": [
    "#Rename 'engine_size2' as 'engine_size'\n",
    "df4.rename(columns = {'engine_size2':'engine_size'}, inplace = True)\n",
    "\n",
    "#Convert engine_size2 column to a numeric type as float\n",
    "df4['engine_size'] = pd.to_numeric(df4['engine_size'], errors='coerce')\n",
    "df4['engine_size'] = df4['engine_size'].astype(float)\n",
    "\n",
    "print(df4.isna().sum())\n",
    "print()\n",
    "df4.info()"
   ]
  },
  {
   "cell_type": "markdown",
   "id": "af84aea3",
   "metadata": {},
   "source": [
    "## Standarizing values in engine_size column"
   ]
  },
  {
   "cell_type": "code",
   "execution_count": 14,
   "id": "e8b423cc",
   "metadata": {},
   "outputs": [],
   "source": [
    "#Standarizing values using Lambda function in engine_size column\n",
    "df4['engine_size'] = df4['engine_size'].apply(lambda x: round(x/1000,1) if x>1000 else round(x,1))"
   ]
  },
  {
   "cell_type": "markdown",
   "id": "268e4719",
   "metadata": {},
   "source": [
    "## Handling wrong data type: year"
   ]
  },
  {
   "cell_type": "code",
   "execution_count": 15,
   "id": "8d823ce2",
   "metadata": {},
   "outputs": [
    {
     "name": "stdout",
     "output_type": "stream",
     "text": [
      "model           0\n",
      "year            0\n",
      "price           0\n",
      "transmission    0\n",
      "mileage         0\n",
      "fuel_type       0\n",
      "engine_size     0\n",
      "reference       0\n",
      "dtype: int64\n",
      "\n",
      "<class 'pandas.core.frame.DataFrame'>\n",
      "Int64Index: 3899 entries, 0 to 4005\n",
      "Data columns (total 8 columns):\n",
      " #   Column        Non-Null Count  Dtype  \n",
      "---  ------        --------------  -----  \n",
      " 0   model         3899 non-null   object \n",
      " 1   year          3899 non-null   int64  \n",
      " 2   price         3899 non-null   int64  \n",
      " 3   transmission  3899 non-null   object \n",
      " 4   mileage       3899 non-null   int64  \n",
      " 5   fuel_type     3899 non-null   object \n",
      " 6   engine_size   3899 non-null   float64\n",
      " 7   reference     3899 non-null   object \n",
      "dtypes: float64(1), int64(3), object(4)\n",
      "memory usage: 274.1+ KB\n"
     ]
    }
   ],
   "source": [
    "#drop NaN value in year column\n",
    "df4.dropna(subset=['year'], inplace = True)\n",
    "\n",
    "#reindex year column\n",
    "df4.reset_index(drop=True)\n",
    "\n",
    "#formatting year column as int64\n",
    "df4['year'] = df4['year'].apply(np.int64)\n",
    "\n",
    "\n",
    "print(df4.isna().sum())\n",
    "print()\n",
    "df4.info()\n",
    "\n",
    "#Create a copy\n",
    "df5 = df4.copy()"
   ]
  },
  {
   "cell_type": "markdown",
   "id": "4ed1afe8",
   "metadata": {},
   "source": [
    "## Handling unneeded columns"
   ]
  },
  {
   "cell_type": "code",
   "execution_count": 16,
   "id": "b68f4768",
   "metadata": {},
   "outputs": [],
   "source": [
    "#Dropping unnecesssaries columns as model and reference columns\n",
    "df5.drop(['model'], axis=1, inplace = True)\n",
    "df5.drop(['reference'], axis=1, inplace = True)"
   ]
  },
  {
   "cell_type": "code",
   "execution_count": 17,
   "id": "9554905b",
   "metadata": {},
   "outputs": [
    {
     "data": {
      "text/plain": [
       "year              int64\n",
       "price             int64\n",
       "transmission     object\n",
       "mileage           int64\n",
       "fuel_type        object\n",
       "engine_size     float64\n",
       "dtype: object"
      ]
     },
     "execution_count": 17,
     "metadata": {},
     "output_type": "execute_result"
    }
   ],
   "source": [
    "df5.dtypes"
   ]
  },
  {
   "cell_type": "markdown",
   "id": "1c372cf7",
   "metadata": {},
   "source": [
    "## Handling categorical data (dummy variables)"
   ]
  },
  {
   "cell_type": "code",
   "execution_count": 18,
   "id": "95c3ac3a",
   "metadata": {},
   "outputs": [],
   "source": [
    "#convert categorical variables into dummies variable\n",
    "transmission = pd.get_dummies(df5['transmission'])\n",
    "\n",
    "#rename columns\n",
    "transmission.rename(columns = {'Other':'special'}, inplace = True)\n",
    "transmission.rename(columns = {'Semi-Auto':'semi_auto'}, inplace = True)\n",
    "\n",
    "#formatting name columns into lower case names\n",
    "transmission.columns = transmission.columns.str.lower()"
   ]
  },
  {
   "cell_type": "code",
   "execution_count": 19,
   "id": "f53a83e5",
   "metadata": {},
   "outputs": [],
   "source": [
    "#convert categorical variables into dummies variable\n",
    "fuel_type = pd.get_dummies(df5['fuel_type'])\n",
    "\n",
    "#rename columns\n",
    "fuel_type.rename(columns = {'Other':'Special_fuel'}, inplace = True)\n",
    "\n",
    "#formatting name columns into lower case names\n",
    "fuel_type.columns = fuel_type.columns.str.lower() #Lower case columns"
   ]
  },
  {
   "cell_type": "markdown",
   "id": "5115c9dd",
   "metadata": {},
   "source": [
    "## Drop unnecesary columns"
   ]
  },
  {
   "cell_type": "code",
   "execution_count": 20,
   "id": "986be82e",
   "metadata": {},
   "outputs": [],
   "source": [
    "df5.drop(['transmission'], axis=1, inplace = True)\n",
    "df5.drop(['fuel_type'], axis=1, inplace = True)"
   ]
  },
  {
   "cell_type": "markdown",
   "id": "bf8fda6b",
   "metadata": {},
   "source": [
    "## Joining on index dummies variables"
   ]
  },
  {
   "cell_type": "code",
   "execution_count": 21,
   "id": "6fa46f53",
   "metadata": {},
   "outputs": [],
   "source": [
    "#joining dummy transmission variable to main dataframe\n",
    "df5 = df5.join(transmission)"
   ]
  },
  {
   "cell_type": "code",
   "execution_count": 22,
   "id": "02b472c8",
   "metadata": {},
   "outputs": [],
   "source": [
    "#joining dummy fuel_type variable to main dataframe\n",
    "df5 = df5.join(fuel_type)"
   ]
  },
  {
   "cell_type": "code",
   "execution_count": 23,
   "id": "a544d45b",
   "metadata": {},
   "outputs": [],
   "source": [
    "#Creata a final cleaned copy data\n",
    "cleaned_data_proj01 = df5.copy()"
   ]
  },
  {
   "cell_type": "markdown",
   "id": "6945b79f",
   "metadata": {},
   "source": [
    "## Save cleaned data in csv file"
   ]
  },
  {
   "cell_type": "code",
   "execution_count": 24,
   "id": "b4b06d09",
   "metadata": {},
   "outputs": [
    {
     "name": "stdout",
     "output_type": "stream",
     "text": [
      "<class 'pandas.core.frame.DataFrame'>\n",
      "Int64Index: 3899 entries, 0 to 4005\n",
      "Data columns (total 12 columns):\n",
      " #   Column        Non-Null Count  Dtype  \n",
      "---  ------        --------------  -----  \n",
      " 0   year          3899 non-null   int64  \n",
      " 1   price         3899 non-null   int64  \n",
      " 2   mileage       3899 non-null   int64  \n",
      " 3   engine_size   3899 non-null   float64\n",
      " 4   automatic     3899 non-null   uint8  \n",
      " 5   manual        3899 non-null   uint8  \n",
      " 6   special       3899 non-null   uint8  \n",
      " 7   semi_auto     3899 non-null   uint8  \n",
      " 8   diesel        3899 non-null   uint8  \n",
      " 9   hybrid        3899 non-null   uint8  \n",
      " 10  special_fuel  3899 non-null   uint8  \n",
      " 11  petrol        3899 non-null   uint8  \n",
      "dtypes: float64(1), int64(3), uint8(8)\n",
      "memory usage: 311.8 KB\n"
     ]
    }
   ],
   "source": [
    "#Peak of information cleaned dataset\n",
    "cleaned_data_proj01.info()"
   ]
  },
  {
   "cell_type": "code",
   "execution_count": 25,
   "id": "68847170",
   "metadata": {},
   "outputs": [
    {
     "name": "stdout",
     "output_type": "stream",
     "text": [
      "year            0\n",
      "price           0\n",
      "mileage         0\n",
      "engine_size     0\n",
      "automatic       0\n",
      "manual          0\n",
      "special         0\n",
      "semi_auto       0\n",
      "diesel          0\n",
      "hybrid          0\n",
      "special_fuel    0\n",
      "petrol          0\n",
      "dtype: int64\n"
     ]
    }
   ],
   "source": [
    "#Checking NaN values\n",
    "print(cleaned_data_proj01.isna().sum())"
   ]
  },
  {
   "cell_type": "code",
   "execution_count": 26,
   "id": "07f6f751",
   "metadata": {},
   "outputs": [],
   "source": [
    "#saving cleaned data in CSV format file\n",
    "cleaned_data_proj01.to_csv('cleaned_data_proj01.csv')"
   ]
  },
  {
   "cell_type": "markdown",
   "id": "92791690",
   "metadata": {},
   "source": [
    "# 4. Exploratory Data Analyis and Visualization"
   ]
  },
  {
   "cell_type": "markdown",
   "id": "beeab632",
   "metadata": {},
   "source": [
    "#### loading libraries"
   ]
  },
  {
   "cell_type": "code",
   "execution_count": 27,
   "id": "90727255",
   "metadata": {},
   "outputs": [
    {
     "data": {
      "text/html": [
       "<div>\n",
       "<style scoped>\n",
       "    .dataframe tbody tr th:only-of-type {\n",
       "        vertical-align: middle;\n",
       "    }\n",
       "\n",
       "    .dataframe tbody tr th {\n",
       "        vertical-align: top;\n",
       "    }\n",
       "\n",
       "    .dataframe thead th {\n",
       "        text-align: right;\n",
       "    }\n",
       "</style>\n",
       "<table border=\"1\" class=\"dataframe\">\n",
       "  <thead>\n",
       "    <tr style=\"text-align: right;\">\n",
       "      <th></th>\n",
       "      <th>year</th>\n",
       "      <th>price</th>\n",
       "      <th>mileage</th>\n",
       "      <th>engine_size</th>\n",
       "      <th>automatic</th>\n",
       "      <th>manual</th>\n",
       "      <th>special</th>\n",
       "      <th>semi_auto</th>\n",
       "      <th>diesel</th>\n",
       "      <th>hybrid</th>\n",
       "      <th>special_fuel</th>\n",
       "      <th>petrol</th>\n",
       "    </tr>\n",
       "  </thead>\n",
       "  <tbody>\n",
       "    <tr>\n",
       "      <th>0</th>\n",
       "      <td>2020</td>\n",
       "      <td>30495</td>\n",
       "      <td>1200</td>\n",
       "      <td>2.0</td>\n",
       "      <td>1</td>\n",
       "      <td>0</td>\n",
       "      <td>0</td>\n",
       "      <td>0</td>\n",
       "      <td>1</td>\n",
       "      <td>0</td>\n",
       "      <td>0</td>\n",
       "      <td>0</td>\n",
       "    </tr>\n",
       "    <tr>\n",
       "      <th>1</th>\n",
       "      <td>2020</td>\n",
       "      <td>29989</td>\n",
       "      <td>1000</td>\n",
       "      <td>15.0</td>\n",
       "      <td>1</td>\n",
       "      <td>0</td>\n",
       "      <td>0</td>\n",
       "      <td>0</td>\n",
       "      <td>0</td>\n",
       "      <td>0</td>\n",
       "      <td>0</td>\n",
       "      <td>1</td>\n",
       "    </tr>\n",
       "    <tr>\n",
       "      <th>2</th>\n",
       "      <td>2020</td>\n",
       "      <td>37899</td>\n",
       "      <td>500</td>\n",
       "      <td>2.0</td>\n",
       "      <td>1</td>\n",
       "      <td>0</td>\n",
       "      <td>0</td>\n",
       "      <td>0</td>\n",
       "      <td>1</td>\n",
       "      <td>0</td>\n",
       "      <td>0</td>\n",
       "      <td>0</td>\n",
       "    </tr>\n",
       "    <tr>\n",
       "      <th>3</th>\n",
       "      <td>2019</td>\n",
       "      <td>30399</td>\n",
       "      <td>5000</td>\n",
       "      <td>2.0</td>\n",
       "      <td>1</td>\n",
       "      <td>0</td>\n",
       "      <td>0</td>\n",
       "      <td>0</td>\n",
       "      <td>1</td>\n",
       "      <td>0</td>\n",
       "      <td>0</td>\n",
       "      <td>0</td>\n",
       "    </tr>\n",
       "    <tr>\n",
       "      <th>4</th>\n",
       "      <td>2019</td>\n",
       "      <td>29899</td>\n",
       "      <td>4500</td>\n",
       "      <td>2.0</td>\n",
       "      <td>1</td>\n",
       "      <td>0</td>\n",
       "      <td>0</td>\n",
       "      <td>0</td>\n",
       "      <td>1</td>\n",
       "      <td>0</td>\n",
       "      <td>0</td>\n",
       "      <td>0</td>\n",
       "    </tr>\n",
       "  </tbody>\n",
       "</table>\n",
       "</div>"
      ],
      "text/plain": [
       "   year  price  mileage  engine_size  automatic  manual  special  semi_auto  \\\n",
       "0  2020  30495     1200          2.0          1       0        0          0   \n",
       "1  2020  29989     1000         15.0          1       0        0          0   \n",
       "2  2020  37899      500          2.0          1       0        0          0   \n",
       "3  2019  30399     5000          2.0          1       0        0          0   \n",
       "4  2019  29899     4500          2.0          1       0        0          0   \n",
       "\n",
       "   diesel  hybrid  special_fuel  petrol  \n",
       "0       1       0             0       0  \n",
       "1       0       0             0       1  \n",
       "2       1       0             0       0  \n",
       "3       1       0             0       0  \n",
       "4       1       0             0       0  "
      ]
     },
     "execution_count": 27,
     "metadata": {},
     "output_type": "execute_result"
    }
   ],
   "source": [
    "import seaborn as sns\n",
    "import matplotlib.pyplot as plt\n",
    "\n",
    "df = pd.read_csv('cleaned_data_proj01.csv')\n",
    "df.drop(['Unnamed: 0'], axis=1, inplace = True)\n",
    "df.head()\n",
    "#df.info()"
   ]
  },
  {
   "cell_type": "code",
   "execution_count": 46,
   "id": "e25e684a",
   "metadata": {},
   "outputs": [
    {
     "data": {
      "image/png": "[encoded data removed]",
      "text/plain": [
       "<Figure size 432x288 with 1 Axes>"
      ]
     },
     "metadata": {},
     "output_type": "display_data"
    }
   ],
   "source": [
    "plt.scatter(df.year, df.price, color='blue')\n",
    "plt.xlabel('Year')\n",
    "plt.ylabel('Price')\n",
    "plt.title('Year vs. Price cars')\n",
    "plt.show()"
   ]
  },
  {
   "cell_type": "code",
   "execution_count": 47,
   "id": "57c72bfa",
   "metadata": {},
   "outputs": [
    {
     "data": {
      "image/png": "[encoded data removed]",
      "text/plain": [
       "<Figure size 432x288 with 1 Axes>"
      ]
     },
     "metadata": {},
     "output_type": "display_data"
    }
   ],
   "source": [
    "plt.scatter(df.year, df.mileage, color='green')\n",
    "plt.xlabel('Year')\n",
    "plt.ylabel('Mileage')\n",
    "plt.title('Year vs. Mileage cars')\n",
    "plt.show()"
   ]
  },
  {
   "cell_type": "code",
   "execution_count": 30,
   "id": "89c0059e",
   "metadata": {},
   "outputs": [
    {
     "data": {
      "text/plain": [
       "<function matplotlib.pyplot.show(close=None, block=None)>"
      ]
     },
     "execution_count": 30,
     "metadata": {},
     "output_type": "execute_result"
    },
    {
     "data": {
      "image/png": "[encoded data removed]",
      "text/plain": [
       "<Figure size 432x288 with 1 Axes>"
      ]
     },
     "metadata": {
      "needs_background": "light"
     },
     "output_type": "display_data"
    }
   ],
   "source": [
    "plt.scatter(df.price, df.mileage, color='orange')\n",
    "plt.xlabel('Price')\n",
    "plt.ylabel('Mileage')\n",
    "plt.title('Price vs. Mileage cars')\n",
    "plt.show"
   ]
  },
  {
   "cell_type": "code",
   "execution_count": 44,
   "id": "d692ba0c",
   "metadata": {},
   "outputs": [
    {
     "data": {
      "image/png": "[encoded data removed]",
      "text/plain": [
       "<Figure size 771.875x360 with 2 Axes>"
      ]
     },
     "metadata": {},
     "output_type": "display_data"
    }
   ],
   "source": [
    "# relplot shows relationship between variables\n",
    "sns.relplot(\n",
    "    data=df,\n",
    "    x=\"price\", y=\"mileage\", col=\"petrol\",\n",
    "    hue=\"automatic\"\n",
    ")\n",
    "plt.show()"
   ]
  },
  {
   "cell_type": "code",
   "execution_count": 45,
   "id": "8f283137",
   "metadata": {},
   "outputs": [
    {
     "data": {
      "image/png": "[encoded data removed]",
      "text/plain": [
       "<Figure size 432x288 with 1 Axes>"
      ]
     },
     "metadata": {},
     "output_type": "display_data"
    }
   ],
   "source": [
    "plt.scatter(df.engine_size, df.mileage, color='orange')\n",
    "plt.xlabel('Price')\n",
    "plt.ylabel('Mileage')\n",
    "plt.title('Price vs. Mileage cars')\n",
    "plt.show()"
   ]
  },
  {
   "cell_type": "code",
   "execution_count": 43,
   "id": "feeedb3e",
   "metadata": {},
   "outputs": [
    {
     "data": {
      "text/plain": [
       "<AxesSubplot:>"
      ]
     },
     "execution_count": 43,
     "metadata": {},
     "output_type": "execute_result"
    },
    {
     "data": {
      "image/png": "[encoded data removed]",
      "text/plain": [
       "<Figure size 1152x432 with 2 Axes>"
      ]
     },
     "metadata": {},
     "output_type": "display_data"
    }
   ],
   "source": [
    "#Correlation\n",
    "corr = df.corr()\n",
    "\n",
    "# Generate a mask for upper traingle\n",
    "mask = np.triu(np.ones_like(corr, dtype=bool))\n",
    "\n",
    "# Configure a custom diverging colormap\n",
    "cmap = sns.diverging_palette(230, 20, as_cmap=True)\n",
    "\n",
    "plt.figure(figsize=(16, 6))\n",
    "sns.heatmap(corr, vmin=-1, vmax=1, annot=True, mask = mask, cmap=cmap)"
   ]
  },
  {
   "cell_type": "markdown",
   "id": "b6c67c3c",
   "metadata": {},
   "source": [
    "\n",
    "Correlation is used in linear regression models to determine __the strength of the relationship__ between the dependent and independent variables. In case there is a strongly positive or negative correlation, the predictor variables can be considered as __features for training the models__.\n",
    "\n",
    "\n",
    "- price & year are having strong positive correlation.\n",
    "- mileage & year strong negative correlation\n",
    "- price & mileage stronge negative correlation\n",
    "- Generally speaking, a Pearson correlation coefficient value greater than 0.7 indicates the presence of multi-collinearity.\n",
    "\n",
    "__Correlation__ is often used in machine learning to __identify multicollinearity__, which is when two or more predictor variables are highly correlated with each other. __Multicollinearity can impact the accuracy of predictive models__, so it’s important to __identify and remove predictors that are associated with high multicollinearity__. There are different methods for identifying multicollinearity, but one common method is to calculate the variance inflation factor (VIF), which measures the degree of correlation between predictor variables. Variance inflation factor (VIF) is a measure of how much the variance of a parameter is increased by collinearity. VIFs are typically used in statistical modeling to assess multicollinearity and to help select model variables. In machine learning, VIF can be used to reduce the dimensionality of data by removing features that are highly correlated with each other. By reducing multicollinearity, VIF can improve the accuracy of predictions and prevent overfitting. Multicollinearity can be addressed either removing one of the correlated variables or by using regularization techniques. Regularization techniques penalize model complexity, which helps to prevent overfitting. In addition, feature engineering techniques can be used to create new features that are not strongly correlated with each other."
   ]
  }
 ],
 "metadata": {
  "kernelspec": {
   "display_name": "Python 3 (ipykernel)",
   "language": "python",
   "name": "python3"
  },
  "language_info": {
   "codemirror_mode": {
    "name": "ipython",
    "version": 3
   },
   "file_extension": ".py",
   "mimetype": "text/x-python",
   "name": "python",
   "nbconvert_exporter": "python",
   "pygments_lexer": "ipython3",
   "version": "3.9.7"
  }
 },
 "nbformat": 4,
 "nbformat_minor": 5
}
